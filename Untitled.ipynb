{
 "cells": [
  {
   "cell_type": "code",
   "execution_count": 2,
   "id": "299c32ef",
   "metadata": {},
   "outputs": [],
   "source": [
    "# Import the necessary modules.\n",
    "from flask import Flask, render_template, request\n",
    "\n",
    "# Create a Flask app.\n",
    "app = Flask(__name__)\n",
    "\n",
    "# Define the route for the contact page.\n",
    "@app.route('/contact', methods=['GET', 'POST'])\n",
    "def contact():\n",
    "    # If the user is submitting the form, process the data.\n",
    "    if request.method == 'POST':\n",
    "        name = request.form.get('name')\n",
    "        email = request.form.get('email')\n",
    "        message = request.form.get('message')\n",
    "\n",
    "        # Send the data to the server.\n",
    "        send_email(name, email, message)\n",
    "\n",
    "        # Redirect the user to the thank-you page.\n",
    "        return render_template('thank_you.html')\n",
    "\n",
    "    # If the user is just viewing the page, show the form.\n",
    "    else:\n",
    "        return render_template('contact.html')\n",
    "\n",
    "# Define the function to send the email.\n",
    "def send_email(name, email, message):\n",
    "    # Import the necessary modules.\n",
    "    import smtplib\n",
    "    from email.mime.multipart import MIMEMultipart\n",
    "    from email.mime.text import MIMEText\n",
    "\n",
    "    # Create the email message.\n",
    "    msg = MIMEMultipart()\n",
    "    msg['Subject'] = 'New Message from Portfolio Website'\n",
    "    msg['From'] = email\n",
    "    msg['To'] = 'shreyashmeshram0031@gmail.com'\n",
    "\n",
    "    # Create the body of the email.\n",
    "    body = MIMEText(message)\n",
    "    msg.attach(body)\n",
    "\n",
    "    # Send the email.\n",
    "    server = smtplib.SMTP('smtp.gmail.com', 587)\n",
    "    server.starttls()\n",
    "    server.login('shreyashmeshram0031@gmail.com', 'your_password')\n",
    "    server.sendmail(email, 'shreyashmeshram0031@gmail.com', msg.as_string())\n",
    "    server.quit()\n",
    "\n",
    "# Run the app.\n",
    "if __name__ == '__main__':\n",
    "    app.run()"
   ]
  }
 ],
 "metadata": {
  "kernelspec": {
   "display_name": "Python 3 (ipykernel)",
   "language": "python",
   "name": "python3"
  },
  "language_info": {
   "codemirror_mode": {
    "name": "ipython",
    "version": 3
   },
   "file_extension": ".py",
   "mimetype": "text/x-python",
   "name": "python",
   "nbconvert_exporter": "python",
   "pygments_lexer": "ipython3",
   "version": "3.10.9"
  }
 },
 "nbformat": 4,
 "nbformat_minor": 5
}
